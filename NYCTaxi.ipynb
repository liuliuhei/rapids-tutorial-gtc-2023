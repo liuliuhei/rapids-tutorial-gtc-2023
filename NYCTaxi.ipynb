{
 "cells": [
  {
   "cell_type": "markdown",
   "metadata": {
    "id": "7eNHyhQtRwUR"
   },
   "source": [
    "# Predicting NYC Taxi Fares with RAPIDS\n",
    "\n",
    "[RAPIDS](https://rapids.ai/) is a suite of GPU accelerated data science libraries with APIs that should be familiar to users of Pandas, Dask, and Scikitlearn.\n",
    "\n",
    "Anaconda has graciously made some of the NYC Taxi dataset available in [a public Google Cloud Storage bucket](https://console.cloud.google.com/storage/browser/anaconda-public-data/nyc-taxi/csv/).\n",
    "\n",
    "This notebook builds a simple data pipeline to load the data with cuDF (or Pandas), analyze it with cuML (or scikit-learn), and then try some steps with multiple GPUs."
   ]
  },
  {
   "cell_type": "code",
   "execution_count": 1,
   "metadata": {},
   "outputs": [
    {
     "name": "stderr",
     "output_type": "stream",
     "text": [
      "/home/ashwin/miniconda3/envs/all_cuda-118_arch-x86_64/lib/python3.10/site-packages/tqdm/auto.py:22: TqdmWarning: IProgress not found. Please update jupyter and ipywidgets. See https://ipywidgets.readthedocs.io/en/stable/user_install.html\n",
      "  from .autonotebook import tqdm as notebook_tqdm\n"
     ]
    }
   ],
   "source": [
    "import os\n",
    "import requests\n",
    "from tqdm.auto import tqdm\n",
    "\n",
    "def download(url, fname):\n",
    "    response = requests.get(url, stream=True)\n",
    "    with tqdm.wrapattr(\n",
    "        open(fname, \"wb\"), \"write\",\n",
    "        unit='B', unit_scale=True, unit_divisor=1024, miniters=1,\n",
    "        desc=fname, total=int(response.headers.get('content-length', 0))\n",
    "    ) as fout:\n",
    "        for chunk in response.iter_content(chunk_size=4096):\n",
    "            fout.write(chunk)\n",
    "\n",
    "base = \"https://d37ci6vzurychx.cloudfront.net/trip-data/\"\n",
    "for i in range(1, 13):\n",
    "    fname = f\"yellow_tripdata_2021-{i:02d}.parquet\"\n",
    "    if not os.path.exists(fname):\n",
    "        download(base + fname, fname)"
   ]
  },
  {
   "cell_type": "code",
   "execution_count": 2,
   "metadata": {
    "id": "Jt68Y8mdRwUV"
   },
   "outputs": [],
   "source": [
    "import numpy as np\n",
    "import pandas as pd\n",
    "# import cuml\n",
    "import cudf\n",
    "import os"
   ]
  },
  {
   "cell_type": "markdown",
   "metadata": {
    "id": "Aq8_HwWrRwUW"
   },
   "source": [
    "# Inspecting the Data\n",
    "\n",
    "Let's start with a familiar Pandas approach then port it to RAPIDS in parallel"
   ]
  },
  {
   "cell_type": "code",
   "execution_count": 3,
   "metadata": {
    "id": "0gthBEkoRwUX"
   },
   "outputs": [],
   "source": [
    "# FIXME\n",
    "base_path = ''"
   ]
  },
  {
   "cell_type": "code",
   "execution_count": 4,
   "metadata": {
    "id": "frVsmOEbRwUY",
    "outputId": "4c7f587f-81aa-49c2-be87-4c1f455000fb"
   },
   "outputs": [
    {
     "name": "stdout",
     "output_type": "stream",
     "text": [
      "CPU times: user 759 ms, sys: 325 ms, total: 1.08 s\n",
      "Wall time: 163 ms\n"
     ]
    },
    {
     "data": {
      "text/html": [
       "<div>\n",
       "<style scoped>\n",
       "    .dataframe tbody tr th:only-of-type {\n",
       "        vertical-align: middle;\n",
       "    }\n",
       "\n",
       "    .dataframe tbody tr th {\n",
       "        vertical-align: top;\n",
       "    }\n",
       "\n",
       "    .dataframe thead th {\n",
       "        text-align: right;\n",
       "    }\n",
       "</style>\n",
       "<table border=\"1\" class=\"dataframe\">\n",
       "  <thead>\n",
       "    <tr style=\"text-align: right;\">\n",
       "      <th></th>\n",
       "      <th>VendorID</th>\n",
       "      <th>tpep_pickup_datetime</th>\n",
       "      <th>tpep_dropoff_datetime</th>\n",
       "      <th>passenger_count</th>\n",
       "      <th>trip_distance</th>\n",
       "      <th>RatecodeID</th>\n",
       "      <th>store_and_fwd_flag</th>\n",
       "      <th>PULocationID</th>\n",
       "      <th>DOLocationID</th>\n",
       "      <th>payment_type</th>\n",
       "      <th>fare_amount</th>\n",
       "      <th>extra</th>\n",
       "      <th>mta_tax</th>\n",
       "      <th>tip_amount</th>\n",
       "      <th>tolls_amount</th>\n",
       "      <th>improvement_surcharge</th>\n",
       "      <th>total_amount</th>\n",
       "      <th>congestion_surcharge</th>\n",
       "      <th>airport_fee</th>\n",
       "    </tr>\n",
       "  </thead>\n",
       "  <tbody>\n",
       "    <tr>\n",
       "      <th>0</th>\n",
       "      <td>1</td>\n",
       "      <td>2021-01-01 00:30:10</td>\n",
       "      <td>2021-01-01 00:36:12</td>\n",
       "      <td>1.0</td>\n",
       "      <td>2.10</td>\n",
       "      <td>1.0</td>\n",
       "      <td>N</td>\n",
       "      <td>142</td>\n",
       "      <td>43</td>\n",
       "      <td>2</td>\n",
       "      <td>8.0</td>\n",
       "      <td>3.0</td>\n",
       "      <td>0.5</td>\n",
       "      <td>0.00</td>\n",
       "      <td>0.0</td>\n",
       "      <td>0.3</td>\n",
       "      <td>11.80</td>\n",
       "      <td>2.5</td>\n",
       "      <td>NaN</td>\n",
       "    </tr>\n",
       "    <tr>\n",
       "      <th>1</th>\n",
       "      <td>1</td>\n",
       "      <td>2021-01-01 00:51:20</td>\n",
       "      <td>2021-01-01 00:52:19</td>\n",
       "      <td>1.0</td>\n",
       "      <td>0.20</td>\n",
       "      <td>1.0</td>\n",
       "      <td>N</td>\n",
       "      <td>238</td>\n",
       "      <td>151</td>\n",
       "      <td>2</td>\n",
       "      <td>3.0</td>\n",
       "      <td>0.5</td>\n",
       "      <td>0.5</td>\n",
       "      <td>0.00</td>\n",
       "      <td>0.0</td>\n",
       "      <td>0.3</td>\n",
       "      <td>4.30</td>\n",
       "      <td>0.0</td>\n",
       "      <td>NaN</td>\n",
       "    </tr>\n",
       "    <tr>\n",
       "      <th>2</th>\n",
       "      <td>1</td>\n",
       "      <td>2021-01-01 00:43:30</td>\n",
       "      <td>2021-01-01 01:11:06</td>\n",
       "      <td>1.0</td>\n",
       "      <td>14.70</td>\n",
       "      <td>1.0</td>\n",
       "      <td>N</td>\n",
       "      <td>132</td>\n",
       "      <td>165</td>\n",
       "      <td>1</td>\n",
       "      <td>42.0</td>\n",
       "      <td>0.5</td>\n",
       "      <td>0.5</td>\n",
       "      <td>8.65</td>\n",
       "      <td>0.0</td>\n",
       "      <td>0.3</td>\n",
       "      <td>51.95</td>\n",
       "      <td>0.0</td>\n",
       "      <td>NaN</td>\n",
       "    </tr>\n",
       "    <tr>\n",
       "      <th>3</th>\n",
       "      <td>1</td>\n",
       "      <td>2021-01-01 00:15:48</td>\n",
       "      <td>2021-01-01 00:31:01</td>\n",
       "      <td>0.0</td>\n",
       "      <td>10.60</td>\n",
       "      <td>1.0</td>\n",
       "      <td>N</td>\n",
       "      <td>138</td>\n",
       "      <td>132</td>\n",
       "      <td>1</td>\n",
       "      <td>29.0</td>\n",
       "      <td>0.5</td>\n",
       "      <td>0.5</td>\n",
       "      <td>6.05</td>\n",
       "      <td>0.0</td>\n",
       "      <td>0.3</td>\n",
       "      <td>36.35</td>\n",
       "      <td>0.0</td>\n",
       "      <td>NaN</td>\n",
       "    </tr>\n",
       "    <tr>\n",
       "      <th>4</th>\n",
       "      <td>2</td>\n",
       "      <td>2021-01-01 00:31:49</td>\n",
       "      <td>2021-01-01 00:48:21</td>\n",
       "      <td>1.0</td>\n",
       "      <td>4.94</td>\n",
       "      <td>1.0</td>\n",
       "      <td>N</td>\n",
       "      <td>68</td>\n",
       "      <td>33</td>\n",
       "      <td>1</td>\n",
       "      <td>16.5</td>\n",
       "      <td>0.5</td>\n",
       "      <td>0.5</td>\n",
       "      <td>4.06</td>\n",
       "      <td>0.0</td>\n",
       "      <td>0.3</td>\n",
       "      <td>24.36</td>\n",
       "      <td>2.5</td>\n",
       "      <td>NaN</td>\n",
       "    </tr>\n",
       "  </tbody>\n",
       "</table>\n",
       "</div>"
      ],
      "text/plain": [
       "   VendorID tpep_pickup_datetime tpep_dropoff_datetime  passenger_count  \\\n",
       "0         1  2021-01-01 00:30:10   2021-01-01 00:36:12              1.0   \n",
       "1         1  2021-01-01 00:51:20   2021-01-01 00:52:19              1.0   \n",
       "2         1  2021-01-01 00:43:30   2021-01-01 01:11:06              1.0   \n",
       "3         1  2021-01-01 00:15:48   2021-01-01 00:31:01              0.0   \n",
       "4         2  2021-01-01 00:31:49   2021-01-01 00:48:21              1.0   \n",
       "\n",
       "   trip_distance  RatecodeID store_and_fwd_flag  PULocationID  DOLocationID  \\\n",
       "0           2.10         1.0                  N           142            43   \n",
       "1           0.20         1.0                  N           238           151   \n",
       "2          14.70         1.0                  N           132           165   \n",
       "3          10.60         1.0                  N           138           132   \n",
       "4           4.94         1.0                  N            68            33   \n",
       "\n",
       "   payment_type  fare_amount  extra  mta_tax  tip_amount  tolls_amount  \\\n",
       "0             2          8.0    3.0      0.5        0.00           0.0   \n",
       "1             2          3.0    0.5      0.5        0.00           0.0   \n",
       "2             1         42.0    0.5      0.5        8.65           0.0   \n",
       "3             1         29.0    0.5      0.5        6.05           0.0   \n",
       "4             1         16.5    0.5      0.5        4.06           0.0   \n",
       "\n",
       "   improvement_surcharge  total_amount  congestion_surcharge  airport_fee  \n",
       "0                    0.3         11.80                   2.5          NaN  \n",
       "1                    0.3          4.30                   0.0          NaN  \n",
       "2                    0.3         51.95                   0.0          NaN  \n",
       "3                    0.3         36.35                   0.0          NaN  \n",
       "4                    0.3         24.36                   2.5          NaN  "
      ]
     },
     "execution_count": 4,
     "metadata": {},
     "output_type": "execute_result"
    }
   ],
   "source": [
    "%%time\n",
    "# Pandas\n",
    "\n",
    "df_2021 = pd.read_parquet(base_path+'yellow_tripdata_2021-01.parquet')\n",
    "df_2021.head()"
   ]
  },
  {
   "cell_type": "code",
   "execution_count": 5,
   "metadata": {
    "id": "aYcFIiSnRwUY",
    "outputId": "6872a33a-da7c-4609-8cd8-b1ec029311c0"
   },
   "outputs": [
    {
     "name": "stdout",
     "output_type": "stream",
     "text": [
      "CPU times: user 1.15 s, sys: 831 ms, total: 1.98 s\n",
      "Wall time: 1.93 s\n"
     ]
    },
    {
     "data": {
      "text/html": [
       "<div>\n",
       "<style scoped>\n",
       "    .dataframe tbody tr th:only-of-type {\n",
       "        vertical-align: middle;\n",
       "    }\n",
       "\n",
       "    .dataframe tbody tr th {\n",
       "        vertical-align: top;\n",
       "    }\n",
       "\n",
       "    .dataframe thead th {\n",
       "        text-align: right;\n",
       "    }\n",
       "</style>\n",
       "<table border=\"1\" class=\"dataframe\">\n",
       "  <thead>\n",
       "    <tr style=\"text-align: right;\">\n",
       "      <th></th>\n",
       "      <th>VendorID</th>\n",
       "      <th>tpep_pickup_datetime</th>\n",
       "      <th>tpep_dropoff_datetime</th>\n",
       "      <th>passenger_count</th>\n",
       "      <th>trip_distance</th>\n",
       "      <th>RatecodeID</th>\n",
       "      <th>store_and_fwd_flag</th>\n",
       "      <th>PULocationID</th>\n",
       "      <th>DOLocationID</th>\n",
       "      <th>payment_type</th>\n",
       "      <th>fare_amount</th>\n",
       "      <th>extra</th>\n",
       "      <th>mta_tax</th>\n",
       "      <th>tip_amount</th>\n",
       "      <th>tolls_amount</th>\n",
       "      <th>improvement_surcharge</th>\n",
       "      <th>total_amount</th>\n",
       "      <th>congestion_surcharge</th>\n",
       "      <th>airport_fee</th>\n",
       "    </tr>\n",
       "  </thead>\n",
       "  <tbody>\n",
       "    <tr>\n",
       "      <th>0</th>\n",
       "      <td>1</td>\n",
       "      <td>2021-01-01 00:30:10</td>\n",
       "      <td>2021-01-01 00:36:12</td>\n",
       "      <td>1.0</td>\n",
       "      <td>2.10</td>\n",
       "      <td>1.0</td>\n",
       "      <td>N</td>\n",
       "      <td>142</td>\n",
       "      <td>43</td>\n",
       "      <td>2</td>\n",
       "      <td>8.0</td>\n",
       "      <td>3.0</td>\n",
       "      <td>0.5</td>\n",
       "      <td>0.00</td>\n",
       "      <td>0.0</td>\n",
       "      <td>0.3</td>\n",
       "      <td>11.80</td>\n",
       "      <td>2.5</td>\n",
       "      <td>&lt;NA&gt;</td>\n",
       "    </tr>\n",
       "    <tr>\n",
       "      <th>1</th>\n",
       "      <td>1</td>\n",
       "      <td>2021-01-01 00:51:20</td>\n",
       "      <td>2021-01-01 00:52:19</td>\n",
       "      <td>1.0</td>\n",
       "      <td>0.20</td>\n",
       "      <td>1.0</td>\n",
       "      <td>N</td>\n",
       "      <td>238</td>\n",
       "      <td>151</td>\n",
       "      <td>2</td>\n",
       "      <td>3.0</td>\n",
       "      <td>0.5</td>\n",
       "      <td>0.5</td>\n",
       "      <td>0.00</td>\n",
       "      <td>0.0</td>\n",
       "      <td>0.3</td>\n",
       "      <td>4.30</td>\n",
       "      <td>0.0</td>\n",
       "      <td>&lt;NA&gt;</td>\n",
       "    </tr>\n",
       "    <tr>\n",
       "      <th>2</th>\n",
       "      <td>1</td>\n",
       "      <td>2021-01-01 00:43:30</td>\n",
       "      <td>2021-01-01 01:11:06</td>\n",
       "      <td>1.0</td>\n",
       "      <td>14.70</td>\n",
       "      <td>1.0</td>\n",
       "      <td>N</td>\n",
       "      <td>132</td>\n",
       "      <td>165</td>\n",
       "      <td>1</td>\n",
       "      <td>42.0</td>\n",
       "      <td>0.5</td>\n",
       "      <td>0.5</td>\n",
       "      <td>8.65</td>\n",
       "      <td>0.0</td>\n",
       "      <td>0.3</td>\n",
       "      <td>51.95</td>\n",
       "      <td>0.0</td>\n",
       "      <td>&lt;NA&gt;</td>\n",
       "    </tr>\n",
       "    <tr>\n",
       "      <th>3</th>\n",
       "      <td>1</td>\n",
       "      <td>2021-01-01 00:15:48</td>\n",
       "      <td>2021-01-01 00:31:01</td>\n",
       "      <td>0.0</td>\n",
       "      <td>10.60</td>\n",
       "      <td>1.0</td>\n",
       "      <td>N</td>\n",
       "      <td>138</td>\n",
       "      <td>132</td>\n",
       "      <td>1</td>\n",
       "      <td>29.0</td>\n",
       "      <td>0.5</td>\n",
       "      <td>0.5</td>\n",
       "      <td>6.05</td>\n",
       "      <td>0.0</td>\n",
       "      <td>0.3</td>\n",
       "      <td>36.35</td>\n",
       "      <td>0.0</td>\n",
       "      <td>&lt;NA&gt;</td>\n",
       "    </tr>\n",
       "    <tr>\n",
       "      <th>4</th>\n",
       "      <td>2</td>\n",
       "      <td>2021-01-01 00:31:49</td>\n",
       "      <td>2021-01-01 00:48:21</td>\n",
       "      <td>1.0</td>\n",
       "      <td>4.94</td>\n",
       "      <td>1.0</td>\n",
       "      <td>N</td>\n",
       "      <td>68</td>\n",
       "      <td>33</td>\n",
       "      <td>1</td>\n",
       "      <td>16.5</td>\n",
       "      <td>0.5</td>\n",
       "      <td>0.5</td>\n",
       "      <td>4.06</td>\n",
       "      <td>0.0</td>\n",
       "      <td>0.3</td>\n",
       "      <td>24.36</td>\n",
       "      <td>2.5</td>\n",
       "      <td>&lt;NA&gt;</td>\n",
       "    </tr>\n",
       "  </tbody>\n",
       "</table>\n",
       "</div>"
      ],
      "text/plain": [
       "   VendorID tpep_pickup_datetime tpep_dropoff_datetime  passenger_count  \\\n",
       "0         1  2021-01-01 00:30:10   2021-01-01 00:36:12              1.0   \n",
       "1         1  2021-01-01 00:51:20   2021-01-01 00:52:19              1.0   \n",
       "2         1  2021-01-01 00:43:30   2021-01-01 01:11:06              1.0   \n",
       "3         1  2021-01-01 00:15:48   2021-01-01 00:31:01              0.0   \n",
       "4         2  2021-01-01 00:31:49   2021-01-01 00:48:21              1.0   \n",
       "\n",
       "   trip_distance  RatecodeID store_and_fwd_flag  PULocationID  DOLocationID  \\\n",
       "0           2.10         1.0                  N           142            43   \n",
       "1           0.20         1.0                  N           238           151   \n",
       "2          14.70         1.0                  N           132           165   \n",
       "3          10.60         1.0                  N           138           132   \n",
       "4           4.94         1.0                  N            68            33   \n",
       "\n",
       "   payment_type  fare_amount  extra  mta_tax  tip_amount  tolls_amount  \\\n",
       "0             2          8.0    3.0      0.5        0.00           0.0   \n",
       "1             2          3.0    0.5      0.5        0.00           0.0   \n",
       "2             1         42.0    0.5      0.5        8.65           0.0   \n",
       "3             1         29.0    0.5      0.5        6.05           0.0   \n",
       "4             1         16.5    0.5      0.5        4.06           0.0   \n",
       "\n",
       "   improvement_surcharge  total_amount  congestion_surcharge airport_fee  \n",
       "0                    0.3         11.80                   2.5        <NA>  \n",
       "1                    0.3          4.30                   0.0        <NA>  \n",
       "2                    0.3         51.95                   0.0        <NA>  \n",
       "3                    0.3         36.35                   0.0        <NA>  \n",
       "4                    0.3         24.36                   2.5        <NA>  "
      ]
     },
     "execution_count": 5,
     "metadata": {},
     "output_type": "execute_result"
    }
   ],
   "source": [
    "%%time\n",
    "# TODO: Read the CSV with cudf into gdf_2021\n",
    "\n",
    "gdf_2021 = cudf.read_parquet(base_path+'yellow_tripdata_2021-01.parquet')\n",
    "gdf_2021.head()"
   ]
  },
  {
   "cell_type": "markdown",
   "metadata": {
    "id": "svYLGK5JRwUZ"
   },
   "source": [
    "# Data Cleanup\n",
    "\n",
    "As usual, the data needs to be massaged a bit before we can start adding features that are useful to an ML model.\n",
    "\n",
    "For example, in the 2014 taxi CSV files, there are `pickup_datetime` and `dropoff_datetime` columns.\n",
    "\n",
    "Also, some CSV files have column names with extraneous spaces in them.\n",
    "\n",
    "We'll do a little string manipulation, column renaming, and concatenating of DataFrames to sidestep the problems."
   ]
  },
  {
   "cell_type": "code",
   "execution_count": 6,
   "metadata": {
    "id": "JXwz5lOFRwUZ"
   },
   "outputs": [],
   "source": [
    "# list of column names that need to be re-mapped\n",
    "remap = {\n",
    "    'tpep_pickup_datetime': 'pickup_datetime',\n",
    "    'tpep_dropoff_datetime': 'dropoff_datetime',\n",
    "    'ratecodeid': 'rate_code',\n",
    "    'pulocationid': 'pickup_location',\n",
    "    'dolocationid': 'dropoff_location'\n",
    "}\n",
    "\n",
    "# create a list of columns & dtypes the df must have\n",
    "# note that float64 will be significantly slower on some GPUs (most GeForce, also Tesla T4)\n",
    "must_haves = {\n",
    "    'pickup_datetime': 'datetime64[ms]',\n",
    "    'dropoff_datetime': 'datetime64[ms]',\n",
    "    'passenger_count': 'int32',\n",
    "    'trip_distance': 'float',\n",
    "    'pickup_longitude': 'float',\n",
    "    'pickup_latitude': 'float',\n",
    "    'rate_code': 'int32',\n",
    "    'dropoff_longitude': 'float',\n",
    "    'dropoff_latitude': 'float',\n",
    "    'fare_amount': 'float',\n",
    "    'pickup_location': 'int32',\n",
    "    'dropoff_location': 'int32'\n",
    "}"
   ]
  },
  {
   "cell_type": "code",
   "execution_count": 7,
   "metadata": {
    "id": "it4uqaIQRwUa"
   },
   "outputs": [],
   "source": [
    "# helper function which takes a DataFrame and fixes column types\n",
    "def clean_columns(df_part, remap, must_haves):    \n",
    "    # iterate through columns in this df\n",
    "    for col in df_part.columns:\n",
    "        # drop anything not in our expected list\n",
    "        if col not in must_haves:\n",
    "            print(f\"Dropping ({col})\")\n",
    "            df_part = df_part.drop(columns=col)\n",
    "            continue\n",
    "        if df_part[col].dtype.kind in {'i', 'f'}:\n",
    "            df_part[col] = df_part[col].fillna(-1)\n",
    "        df_part[col] = df_part[col].astype(must_haves[col])\n",
    "    return df_part"
   ]
  },
  {
   "cell_type": "code",
   "execution_count": 8,
   "metadata": {
    "id": "1c2NSk3oRwUa",
    "outputId": "65a2cd9b-a60d-4fba-8115-1ca99cfc4b14"
   },
   "outputs": [
    {
     "name": "stdout",
     "output_type": "stream",
     "text": [
      "Dropping (vendorid)\n",
      "Dropping (store_and_fwd_flag)\n",
      "Dropping (payment_type)\n",
      "Dropping (extra)\n",
      "Dropping (mta_tax)\n",
      "Dropping (tip_amount)\n",
      "Dropping (tolls_amount)\n",
      "Dropping (improvement_surcharge)\n",
      "Dropping (total_amount)\n",
      "Dropping (congestion_surcharge)\n",
      "Dropping (airport_fee)\n",
      "<class 'pandas.core.frame.DataFrame'>\n",
      "CPU times: user 527 ms, sys: 213 ms, total: 740 ms\n",
      "Wall time: 729 ms\n"
     ]
    },
    {
     "data": {
      "text/html": [
       "<div>\n",
       "<style scoped>\n",
       "    .dataframe tbody tr th:only-of-type {\n",
       "        vertical-align: middle;\n",
       "    }\n",
       "\n",
       "    .dataframe tbody tr th {\n",
       "        vertical-align: top;\n",
       "    }\n",
       "\n",
       "    .dataframe thead th {\n",
       "        text-align: right;\n",
       "    }\n",
       "</style>\n",
       "<table border=\"1\" class=\"dataframe\">\n",
       "  <thead>\n",
       "    <tr style=\"text-align: right;\">\n",
       "      <th></th>\n",
       "      <th>pickup_datetime</th>\n",
       "      <th>dropoff_datetime</th>\n",
       "      <th>passenger_count</th>\n",
       "      <th>trip_distance</th>\n",
       "      <th>rate_code</th>\n",
       "      <th>pickup_location</th>\n",
       "      <th>dropoff_location</th>\n",
       "      <th>fare_amount</th>\n",
       "    </tr>\n",
       "  </thead>\n",
       "  <tbody>\n",
       "    <tr>\n",
       "      <th>0</th>\n",
       "      <td>2021-01-01 00:30:10</td>\n",
       "      <td>2021-01-01 00:36:12</td>\n",
       "      <td>1</td>\n",
       "      <td>2.10</td>\n",
       "      <td>1</td>\n",
       "      <td>142</td>\n",
       "      <td>43</td>\n",
       "      <td>8.0</td>\n",
       "    </tr>\n",
       "    <tr>\n",
       "      <th>1</th>\n",
       "      <td>2021-01-01 00:51:20</td>\n",
       "      <td>2021-01-01 00:52:19</td>\n",
       "      <td>1</td>\n",
       "      <td>0.20</td>\n",
       "      <td>1</td>\n",
       "      <td>238</td>\n",
       "      <td>151</td>\n",
       "      <td>3.0</td>\n",
       "    </tr>\n",
       "    <tr>\n",
       "      <th>2</th>\n",
       "      <td>2021-01-01 00:43:30</td>\n",
       "      <td>2021-01-01 01:11:06</td>\n",
       "      <td>1</td>\n",
       "      <td>14.70</td>\n",
       "      <td>1</td>\n",
       "      <td>132</td>\n",
       "      <td>165</td>\n",
       "      <td>42.0</td>\n",
       "    </tr>\n",
       "    <tr>\n",
       "      <th>3</th>\n",
       "      <td>2021-01-01 00:15:48</td>\n",
       "      <td>2021-01-01 00:31:01</td>\n",
       "      <td>0</td>\n",
       "      <td>10.60</td>\n",
       "      <td>1</td>\n",
       "      <td>138</td>\n",
       "      <td>132</td>\n",
       "      <td>29.0</td>\n",
       "    </tr>\n",
       "    <tr>\n",
       "      <th>4</th>\n",
       "      <td>2021-01-01 00:31:49</td>\n",
       "      <td>2021-01-01 00:48:21</td>\n",
       "      <td>1</td>\n",
       "      <td>4.94</td>\n",
       "      <td>1</td>\n",
       "      <td>68</td>\n",
       "      <td>33</td>\n",
       "      <td>16.5</td>\n",
       "    </tr>\n",
       "  </tbody>\n",
       "</table>\n",
       "</div>"
      ],
      "text/plain": [
       "      pickup_datetime    dropoff_datetime  passenger_count  trip_distance  \\\n",
       "0 2021-01-01 00:30:10 2021-01-01 00:36:12                1           2.10   \n",
       "1 2021-01-01 00:51:20 2021-01-01 00:52:19                1           0.20   \n",
       "2 2021-01-01 00:43:30 2021-01-01 01:11:06                1          14.70   \n",
       "3 2021-01-01 00:15:48 2021-01-01 00:31:01                0          10.60   \n",
       "4 2021-01-01 00:31:49 2021-01-01 00:48:21                1           4.94   \n",
       "\n",
       "   rate_code  pickup_location  dropoff_location  fare_amount  \n",
       "0          1              142                43          8.0  \n",
       "1          1              238               151          3.0  \n",
       "2          1              132               165         42.0  \n",
       "3          1              138               132         29.0  \n",
       "4          1               68                33         16.5  "
      ]
     },
     "execution_count": 8,
     "metadata": {},
     "output_type": "execute_result"
    }
   ],
   "source": [
    "%%time\n",
    "# Pandas approach\n",
    "\n",
    "# some col-names include pre-pended spaces remove & lowercase column names\n",
    "col_cleanup = {col: col.strip().lower() for col in list(df_2021.columns)}\n",
    "df = df_2021.rename(columns=col_cleanup)\n",
    "# rename columns using the supplied mapping\n",
    "df = df.rename(remap, axis=1)\n",
    "\n",
    "df = clean_columns(df, remap, must_haves)\n",
    "print(df.__class__)\n",
    "df.head()"
   ]
  },
  {
   "cell_type": "code",
   "execution_count": 9,
   "metadata": {
    "id": "1Gwi2R3kRwUa",
    "outputId": "d4bf2198-5598-47f6-cadb-b31c2456b946"
   },
   "outputs": [
    {
     "name": "stdout",
     "output_type": "stream",
     "text": [
      "Dropping (vendorid)\n",
      "Dropping (store_and_fwd_flag)\n",
      "Dropping (payment_type)\n",
      "Dropping (extra)\n",
      "Dropping (mta_tax)\n",
      "Dropping (tip_amount)\n",
      "Dropping (tolls_amount)\n",
      "Dropping (improvement_surcharge)\n",
      "Dropping (total_amount)\n",
      "Dropping (congestion_surcharge)\n",
      "Dropping (airport_fee)\n",
      "<class 'cudf.core.dataframe.DataFrame'>\n",
      "CPU times: user 21.1 ms, sys: 59.8 ms, total: 80.9 ms\n",
      "Wall time: 90 ms\n"
     ]
    },
    {
     "data": {
      "text/html": [
       "<div>\n",
       "<style scoped>\n",
       "    .dataframe tbody tr th:only-of-type {\n",
       "        vertical-align: middle;\n",
       "    }\n",
       "\n",
       "    .dataframe tbody tr th {\n",
       "        vertical-align: top;\n",
       "    }\n",
       "\n",
       "    .dataframe thead th {\n",
       "        text-align: right;\n",
       "    }\n",
       "</style>\n",
       "<table border=\"1\" class=\"dataframe\">\n",
       "  <thead>\n",
       "    <tr style=\"text-align: right;\">\n",
       "      <th></th>\n",
       "      <th>pickup_datetime</th>\n",
       "      <th>dropoff_datetime</th>\n",
       "      <th>passenger_count</th>\n",
       "      <th>trip_distance</th>\n",
       "      <th>rate_code</th>\n",
       "      <th>pickup_location</th>\n",
       "      <th>dropoff_location</th>\n",
       "      <th>fare_amount</th>\n",
       "    </tr>\n",
       "  </thead>\n",
       "  <tbody>\n",
       "    <tr>\n",
       "      <th>0</th>\n",
       "      <td>2021-01-01 00:30:10</td>\n",
       "      <td>2021-01-01 00:36:12</td>\n",
       "      <td>1</td>\n",
       "      <td>2.10</td>\n",
       "      <td>1</td>\n",
       "      <td>142</td>\n",
       "      <td>43</td>\n",
       "      <td>8.0</td>\n",
       "    </tr>\n",
       "    <tr>\n",
       "      <th>1</th>\n",
       "      <td>2021-01-01 00:51:20</td>\n",
       "      <td>2021-01-01 00:52:19</td>\n",
       "      <td>1</td>\n",
       "      <td>0.20</td>\n",
       "      <td>1</td>\n",
       "      <td>238</td>\n",
       "      <td>151</td>\n",
       "      <td>3.0</td>\n",
       "    </tr>\n",
       "    <tr>\n",
       "      <th>2</th>\n",
       "      <td>2021-01-01 00:43:30</td>\n",
       "      <td>2021-01-01 01:11:06</td>\n",
       "      <td>1</td>\n",
       "      <td>14.70</td>\n",
       "      <td>1</td>\n",
       "      <td>132</td>\n",
       "      <td>165</td>\n",
       "      <td>42.0</td>\n",
       "    </tr>\n",
       "    <tr>\n",
       "      <th>3</th>\n",
       "      <td>2021-01-01 00:15:48</td>\n",
       "      <td>2021-01-01 00:31:01</td>\n",
       "      <td>0</td>\n",
       "      <td>10.60</td>\n",
       "      <td>1</td>\n",
       "      <td>138</td>\n",
       "      <td>132</td>\n",
       "      <td>29.0</td>\n",
       "    </tr>\n",
       "    <tr>\n",
       "      <th>4</th>\n",
       "      <td>2021-01-01 00:31:49</td>\n",
       "      <td>2021-01-01 00:48:21</td>\n",
       "      <td>1</td>\n",
       "      <td>4.94</td>\n",
       "      <td>1</td>\n",
       "      <td>68</td>\n",
       "      <td>33</td>\n",
       "      <td>16.5</td>\n",
       "    </tr>\n",
       "  </tbody>\n",
       "</table>\n",
       "</div>"
      ],
      "text/plain": [
       "      pickup_datetime    dropoff_datetime  passenger_count  trip_distance  \\\n",
       "0 2021-01-01 00:30:10 2021-01-01 00:36:12                1           2.10   \n",
       "1 2021-01-01 00:51:20 2021-01-01 00:52:19                1           0.20   \n",
       "2 2021-01-01 00:43:30 2021-01-01 01:11:06                1          14.70   \n",
       "3 2021-01-01 00:15:48 2021-01-01 00:31:01                0          10.60   \n",
       "4 2021-01-01 00:31:49 2021-01-01 00:48:21                1           4.94   \n",
       "\n",
       "   rate_code  pickup_location  dropoff_location  fare_amount  \n",
       "0          1              142                43          8.0  \n",
       "1          1              238               151          3.0  \n",
       "2          1              132               165         42.0  \n",
       "3          1              138               132         29.0  \n",
       "4          1               68                33         16.5  "
      ]
     },
     "execution_count": 9,
     "metadata": {},
     "output_type": "execute_result"
    }
   ],
   "source": [
    "%%time\n",
    "# TODO: RAPIDS approach - same as aPandas, but generate 'gdf' as output\n",
    "# some col-names include pre-pended spaces remove & lowercase column names\n",
    "col_cleanup = {col: col.strip().lower() for col in list(gdf_2021.columns)}\n",
    "gdf = gdf_2021.rename(columns=col_cleanup)\n",
    "# rename columns using the supplied mapping\n",
    "gdf = gdf.rename(remap, axis=1)\n",
    "\n",
    "gdf = clean_columns(gdf, remap, must_haves)\n",
    "print(gdf.__class__)\n",
    "gdf.head()"
   ]
  },
  {
   "cell_type": "markdown",
   "metadata": {
    "id": "2gKmNnQcRwUb"
   },
   "source": [
    "# Look at some key stats"
   ]
  },
  {
   "cell_type": "code",
   "execution_count": 10,
   "metadata": {
    "id": "pVs3cuccRwUb"
   },
   "outputs": [],
   "source": [
    "import seaborn as sns"
   ]
  },
  {
   "cell_type": "code",
   "execution_count": 11,
   "metadata": {
    "id": "dCmge3E6RwUb",
    "outputId": "450c3133-7762-4693-f9c1-ba5397af5343"
   },
   "outputs": [
    {
     "data": {
      "text/plain": [
       "<AxesSubplot: xlabel='passenger_count', ylabel='fare_amount'>"
      ]
     },
     "execution_count": 11,
     "metadata": {},
     "output_type": "execute_result"
    },
    {
     "data": {
      "image/png": "[encoded data removed]",
      "text/plain": [
       "<Figure size 640x480 with 1 Axes>"
      ]
     },
     "metadata": {},
     "output_type": "display_data"
    }
   ],
   "source": [
    "sns.boxplot(x=\"passenger_count\", y=\"fare_amount\", data=df)"
   ]
  },
  {
   "cell_type": "markdown",
   "metadata": {
    "id": "mc22qD3DRwUb"
   },
   "source": [
    "# Filter the data"
   ]
  },
  {
   "cell_type": "code",
   "execution_count": 12,
   "metadata": {
    "id": "zExLvVyVRwUc",
    "outputId": "b745c1f5-5e52-4bfc-b84f-7afbbc33062a"
   },
   "outputs": [
    {
     "name": "stdout",
     "output_type": "stream",
     "text": [
      "CPU times: user 92.3 ms, sys: 23.9 ms, total: 116 ms\n",
      "Wall time: 112 ms\n"
     ]
    },
    {
     "data": {
      "text/html": [
       "<div>\n",
       "<style scoped>\n",
       "    .dataframe tbody tr th:only-of-type {\n",
       "        vertical-align: middle;\n",
       "    }\n",
       "\n",
       "    .dataframe tbody tr th {\n",
       "        vertical-align: top;\n",
       "    }\n",
       "\n",
       "    .dataframe thead th {\n",
       "        text-align: right;\n",
       "    }\n",
       "</style>\n",
       "<table border=\"1\" class=\"dataframe\">\n",
       "  <thead>\n",
       "    <tr style=\"text-align: right;\">\n",
       "      <th></th>\n",
       "      <th>pickup_datetime</th>\n",
       "      <th>dropoff_datetime</th>\n",
       "      <th>passenger_count</th>\n",
       "      <th>trip_distance</th>\n",
       "      <th>rate_code</th>\n",
       "      <th>pickup_location</th>\n",
       "      <th>dropoff_location</th>\n",
       "      <th>fare_amount</th>\n",
       "    </tr>\n",
       "  </thead>\n",
       "  <tbody>\n",
       "    <tr>\n",
       "      <th>0</th>\n",
       "      <td>2021-01-01 00:30:10</td>\n",
       "      <td>2021-01-01 00:36:12</td>\n",
       "      <td>1</td>\n",
       "      <td>2.10</td>\n",
       "      <td>1</td>\n",
       "      <td>142</td>\n",
       "      <td>43</td>\n",
       "      <td>8.0</td>\n",
       "    </tr>\n",
       "    <tr>\n",
       "      <th>1</th>\n",
       "      <td>2021-01-01 00:51:20</td>\n",
       "      <td>2021-01-01 00:52:19</td>\n",
       "      <td>1</td>\n",
       "      <td>0.20</td>\n",
       "      <td>1</td>\n",
       "      <td>238</td>\n",
       "      <td>151</td>\n",
       "      <td>3.0</td>\n",
       "    </tr>\n",
       "    <tr>\n",
       "      <th>2</th>\n",
       "      <td>2021-01-01 00:43:30</td>\n",
       "      <td>2021-01-01 01:11:06</td>\n",
       "      <td>1</td>\n",
       "      <td>14.70</td>\n",
       "      <td>1</td>\n",
       "      <td>132</td>\n",
       "      <td>165</td>\n",
       "      <td>42.0</td>\n",
       "    </tr>\n",
       "    <tr>\n",
       "      <th>4</th>\n",
       "      <td>2021-01-01 00:31:49</td>\n",
       "      <td>2021-01-01 00:48:21</td>\n",
       "      <td>1</td>\n",
       "      <td>4.94</td>\n",
       "      <td>1</td>\n",
       "      <td>68</td>\n",
       "      <td>33</td>\n",
       "      <td>16.5</td>\n",
       "    </tr>\n",
       "    <tr>\n",
       "      <th>5</th>\n",
       "      <td>2021-01-01 00:16:29</td>\n",
       "      <td>2021-01-01 00:24:30</td>\n",
       "      <td>1</td>\n",
       "      <td>1.60</td>\n",
       "      <td>1</td>\n",
       "      <td>224</td>\n",
       "      <td>68</td>\n",
       "      <td>8.0</td>\n",
       "    </tr>\n",
       "  </tbody>\n",
       "</table>\n",
       "</div>"
      ],
      "text/plain": [
       "      pickup_datetime    dropoff_datetime  passenger_count  trip_distance  \\\n",
       "0 2021-01-01 00:30:10 2021-01-01 00:36:12                1           2.10   \n",
       "1 2021-01-01 00:51:20 2021-01-01 00:52:19                1           0.20   \n",
       "2 2021-01-01 00:43:30 2021-01-01 01:11:06                1          14.70   \n",
       "4 2021-01-01 00:31:49 2021-01-01 00:48:21                1           4.94   \n",
       "5 2021-01-01 00:16:29 2021-01-01 00:24:30                1           1.60   \n",
       "\n",
       "   rate_code  pickup_location  dropoff_location  fare_amount  \n",
       "0          1              142                43          8.0  \n",
       "1          1              238               151          3.0  \n",
       "2          1              132               165         42.0  \n",
       "4          1               68                33         16.5  \n",
       "5          1              224                68          8.0  "
      ]
     },
     "execution_count": 12,
     "metadata": {},
     "output_type": "execute_result"
    }
   ],
   "source": [
    "%%time\n",
    "\n",
    "# apply a list of filter conditions to throw out records with missing or outlier values\n",
    "query_frags = [\n",
    "    'fare_amount > 0 and fare_amount < 500',\n",
    "    'passenger_count > 0 and passenger_count < 6',\n",
    "]\n",
    "df_subset = df.query(' and '.join(query_frags)).copy()\n",
    "\n",
    "# inspect the results of cleaning\n",
    "df_subset.head()"
   ]
  },
  {
   "cell_type": "code",
   "execution_count": 13,
   "metadata": {
    "id": "UyjuYoWRRwUc",
    "outputId": "c5d7d545-6aa2-4244-a712-1a9f63eb3f3f"
   },
   "outputs": [
    {
     "name": "stdout",
     "output_type": "stream",
     "text": [
      "CPU times: user 317 ms, sys: 10.4 ms, total: 328 ms\n",
      "Wall time: 322 ms\n"
     ]
    },
    {
     "data": {
      "text/html": [
       "<div>\n",
       "<style scoped>\n",
       "    .dataframe tbody tr th:only-of-type {\n",
       "        vertical-align: middle;\n",
       "    }\n",
       "\n",
       "    .dataframe tbody tr th {\n",
       "        vertical-align: top;\n",
       "    }\n",
       "\n",
       "    .dataframe thead th {\n",
       "        text-align: right;\n",
       "    }\n",
       "</style>\n",
       "<table border=\"1\" class=\"dataframe\">\n",
       "  <thead>\n",
       "    <tr style=\"text-align: right;\">\n",
       "      <th></th>\n",
       "      <th>pickup_datetime</th>\n",
       "      <th>dropoff_datetime</th>\n",
       "      <th>passenger_count</th>\n",
       "      <th>trip_distance</th>\n",
       "      <th>rate_code</th>\n",
       "      <th>pickup_location</th>\n",
       "      <th>dropoff_location</th>\n",
       "      <th>fare_amount</th>\n",
       "    </tr>\n",
       "  </thead>\n",
       "  <tbody>\n",
       "    <tr>\n",
       "      <th>0</th>\n",
       "      <td>2021-01-01 00:30:10</td>\n",
       "      <td>2021-01-01 00:36:12</td>\n",
       "      <td>1</td>\n",
       "      <td>2.10</td>\n",
       "      <td>1</td>\n",
       "      <td>142</td>\n",
       "      <td>43</td>\n",
       "      <td>8.0</td>\n",
       "    </tr>\n",
       "    <tr>\n",
       "      <th>1</th>\n",
       "      <td>2021-01-01 00:51:20</td>\n",
       "      <td>2021-01-01 00:52:19</td>\n",
       "      <td>1</td>\n",
       "      <td>0.20</td>\n",
       "      <td>1</td>\n",
       "      <td>238</td>\n",
       "      <td>151</td>\n",
       "      <td>3.0</td>\n",
       "    </tr>\n",
       "    <tr>\n",
       "      <th>2</th>\n",
       "      <td>2021-01-01 00:43:30</td>\n",
       "      <td>2021-01-01 01:11:06</td>\n",
       "      <td>1</td>\n",
       "      <td>14.70</td>\n",
       "      <td>1</td>\n",
       "      <td>132</td>\n",
       "      <td>165</td>\n",
       "      <td>42.0</td>\n",
       "    </tr>\n",
       "    <tr>\n",
       "      <th>4</th>\n",
       "      <td>2021-01-01 00:31:49</td>\n",
       "      <td>2021-01-01 00:48:21</td>\n",
       "      <td>1</td>\n",
       "      <td>4.94</td>\n",
       "      <td>1</td>\n",
       "      <td>68</td>\n",
       "      <td>33</td>\n",
       "      <td>16.5</td>\n",
       "    </tr>\n",
       "    <tr>\n",
       "      <th>5</th>\n",
       "      <td>2021-01-01 00:16:29</td>\n",
       "      <td>2021-01-01 00:24:30</td>\n",
       "      <td>1</td>\n",
       "      <td>1.60</td>\n",
       "      <td>1</td>\n",
       "      <td>224</td>\n",
       "      <td>68</td>\n",
       "      <td>8.0</td>\n",
       "    </tr>\n",
       "  </tbody>\n",
       "</table>\n",
       "</div>"
      ],
      "text/plain": [
       "      pickup_datetime    dropoff_datetime  passenger_count  trip_distance  \\\n",
       "0 2021-01-01 00:30:10 2021-01-01 00:36:12                1           2.10   \n",
       "1 2021-01-01 00:51:20 2021-01-01 00:52:19                1           0.20   \n",
       "2 2021-01-01 00:43:30 2021-01-01 01:11:06                1          14.70   \n",
       "4 2021-01-01 00:31:49 2021-01-01 00:48:21                1           4.94   \n",
       "5 2021-01-01 00:16:29 2021-01-01 00:24:30                1           1.60   \n",
       "\n",
       "   rate_code  pickup_location  dropoff_location  fare_amount  \n",
       "0          1              142                43          8.0  \n",
       "1          1              238               151          3.0  \n",
       "2          1              132               165         42.0  \n",
       "4          1               68                33         16.5  \n",
       "5          1              224                68          8.0  "
      ]
     },
     "execution_count": 13,
     "metadata": {},
     "output_type": "execute_result"
    }
   ],
   "source": [
    "%%time\n",
    "\n",
    "# TODO: RAPIDS version with \"gdf_subset\" as output\n",
    "\n",
    "# apply a list of filter conditions to throw out records with missing or outlier values\n",
    "query_frags = [\n",
    "    'fare_amount > 0 and fare_amount < 500',\n",
    "    'passenger_count > 0 and passenger_count < 6',\n",
    "]\n",
    "gdf_subset = gdf.query(' and '.join(query_frags)).copy()\n",
    "\n",
    "# inspect the results of cleaning\n",
    "gdf_subset.head()"
   ]
  },
  {
   "cell_type": "markdown",
   "metadata": {
    "id": "IieCGSP2RwUc"
   },
   "source": [
    "# Demo 3: UDFs to add rich features \n",
    "\n",
    "cuDF provides standard DataFrame operations, but also let you run \"user defined functions\" on the underlying data.\n",
    "\n",
    "cuDF's [apply_rows](https://rapidsai.github.io/projects/cudf/en/0.6.0/api.html#cudf.dataframe.DataFrame.apply_rows) operation is similar to Pandas's [DataFrame.apply](https://pandas.pydata.org/pandas-docs/stable/reference/api/pandas.DataFrame.apply.html), except that for cuDF, custom Python code is [JIT compiled by numba](https://numba.pydata.org/numba-doc/dev/cuda/kernels.html) into GPU kernels.\n",
    "\n",
    "We'll use a Haversine Distance calculation to find total trip distance, and extract additional useful variables from the datetime fields."
   ]
  },
  {
   "cell_type": "code",
   "execution_count": 14,
   "metadata": {
    "id": "qwtLbAyWRwUc"
   },
   "outputs": [],
   "source": [
    "from numpy import pi\n",
    "\n",
    "# FIXME: Add a feature via UDF\n",
    "\n",
    "def add_features(df):\n",
    "    df['hour'] = df['pickup_datetime'].dt.hour\n",
    "    df['year'] = df['pickup_datetime'].dt.year\n",
    "    df['month'] = df['pickup_datetime'].dt.month\n",
    "    df['day'] = df['pickup_datetime'].dt.day\n",
    "    \n",
    "    df[\"day_of_week\"] = df[\"pickup_datetime\"].dt.dayofweek\n",
    "    \n",
    "    df = df.drop(columns=['pickup_datetime', 'dropoff_datetime'])    \n",
    "    \n",
    "    df['is_weekend'] = (df['day_of_week'] >= 5).astype(np.int32)\n",
    "    return df"
   ]
  },
  {
   "cell_type": "code",
   "execution_count": 15,
   "metadata": {
    "id": "UhSfx8H-RwUd",
    "outputId": "1801d843-0820-45aa-fb73-21b8fe630755"
   },
   "outputs": [
    {
     "name": "stdout",
     "output_type": "stream",
     "text": [
      "CPU times: user 428 ms, sys: 10.8 ms, total: 439 ms\n",
      "Wall time: 433 ms\n"
     ]
    },
    {
     "data": {
      "text/html": [
       "<div>\n",
       "<style scoped>\n",
       "    .dataframe tbody tr th:only-of-type {\n",
       "        vertical-align: middle;\n",
       "    }\n",
       "\n",
       "    .dataframe tbody tr th {\n",
       "        vertical-align: top;\n",
       "    }\n",
       "\n",
       "    .dataframe thead th {\n",
       "        text-align: right;\n",
       "    }\n",
       "</style>\n",
       "<table border=\"1\" class=\"dataframe\">\n",
       "  <thead>\n",
       "    <tr style=\"text-align: right;\">\n",
       "      <th></th>\n",
       "      <th>passenger_count</th>\n",
       "      <th>trip_distance</th>\n",
       "      <th>rate_code</th>\n",
       "      <th>pickup_location</th>\n",
       "      <th>dropoff_location</th>\n",
       "      <th>fare_amount</th>\n",
       "      <th>hour</th>\n",
       "      <th>year</th>\n",
       "      <th>month</th>\n",
       "      <th>day</th>\n",
       "      <th>day_of_week</th>\n",
       "      <th>is_weekend</th>\n",
       "    </tr>\n",
       "  </thead>\n",
       "  <tbody>\n",
       "    <tr>\n",
       "      <th>0</th>\n",
       "      <td>1</td>\n",
       "      <td>2.10</td>\n",
       "      <td>1</td>\n",
       "      <td>142</td>\n",
       "      <td>43</td>\n",
       "      <td>8.0</td>\n",
       "      <td>0</td>\n",
       "      <td>2021</td>\n",
       "      <td>1</td>\n",
       "      <td>1</td>\n",
       "      <td>4</td>\n",
       "      <td>0</td>\n",
       "    </tr>\n",
       "    <tr>\n",
       "      <th>1</th>\n",
       "      <td>1</td>\n",
       "      <td>0.20</td>\n",
       "      <td>1</td>\n",
       "      <td>238</td>\n",
       "      <td>151</td>\n",
       "      <td>3.0</td>\n",
       "      <td>0</td>\n",
       "      <td>2021</td>\n",
       "      <td>1</td>\n",
       "      <td>1</td>\n",
       "      <td>4</td>\n",
       "      <td>0</td>\n",
       "    </tr>\n",
       "    <tr>\n",
       "      <th>2</th>\n",
       "      <td>1</td>\n",
       "      <td>14.70</td>\n",
       "      <td>1</td>\n",
       "      <td>132</td>\n",
       "      <td>165</td>\n",
       "      <td>42.0</td>\n",
       "      <td>0</td>\n",
       "      <td>2021</td>\n",
       "      <td>1</td>\n",
       "      <td>1</td>\n",
       "      <td>4</td>\n",
       "      <td>0</td>\n",
       "    </tr>\n",
       "    <tr>\n",
       "      <th>4</th>\n",
       "      <td>1</td>\n",
       "      <td>4.94</td>\n",
       "      <td>1</td>\n",
       "      <td>68</td>\n",
       "      <td>33</td>\n",
       "      <td>16.5</td>\n",
       "      <td>0</td>\n",
       "      <td>2021</td>\n",
       "      <td>1</td>\n",
       "      <td>1</td>\n",
       "      <td>4</td>\n",
       "      <td>0</td>\n",
       "    </tr>\n",
       "    <tr>\n",
       "      <th>5</th>\n",
       "      <td>1</td>\n",
       "      <td>1.60</td>\n",
       "      <td>1</td>\n",
       "      <td>224</td>\n",
       "      <td>68</td>\n",
       "      <td>8.0</td>\n",
       "      <td>0</td>\n",
       "      <td>2021</td>\n",
       "      <td>1</td>\n",
       "      <td>1</td>\n",
       "      <td>4</td>\n",
       "      <td>0</td>\n",
       "    </tr>\n",
       "    <tr>\n",
       "      <th>...</th>\n",
       "      <td>...</td>\n",
       "      <td>...</td>\n",
       "      <td>...</td>\n",
       "      <td>...</td>\n",
       "      <td>...</td>\n",
       "      <td>...</td>\n",
       "      <td>...</td>\n",
       "      <td>...</td>\n",
       "      <td>...</td>\n",
       "      <td>...</td>\n",
       "      <td>...</td>\n",
       "      <td>...</td>\n",
       "    </tr>\n",
       "    <tr>\n",
       "      <th>1271412</th>\n",
       "      <td>3</td>\n",
       "      <td>0.81</td>\n",
       "      <td>1</td>\n",
       "      <td>41</td>\n",
       "      <td>74</td>\n",
       "      <td>5.0</td>\n",
       "      <td>23</td>\n",
       "      <td>2021</td>\n",
       "      <td>1</td>\n",
       "      <td>31</td>\n",
       "      <td>6</td>\n",
       "      <td>1</td>\n",
       "    </tr>\n",
       "    <tr>\n",
       "      <th>1271413</th>\n",
       "      <td>1</td>\n",
       "      <td>3.81</td>\n",
       "      <td>1</td>\n",
       "      <td>113</td>\n",
       "      <td>141</td>\n",
       "      <td>12.5</td>\n",
       "      <td>23</td>\n",
       "      <td>2021</td>\n",
       "      <td>1</td>\n",
       "      <td>31</td>\n",
       "      <td>6</td>\n",
       "      <td>1</td>\n",
       "    </tr>\n",
       "    <tr>\n",
       "      <th>1271414</th>\n",
       "      <td>1</td>\n",
       "      <td>1.32</td>\n",
       "      <td>1</td>\n",
       "      <td>233</td>\n",
       "      <td>237</td>\n",
       "      <td>6.0</td>\n",
       "      <td>23</td>\n",
       "      <td>2021</td>\n",
       "      <td>1</td>\n",
       "      <td>31</td>\n",
       "      <td>6</td>\n",
       "      <td>1</td>\n",
       "    </tr>\n",
       "    <tr>\n",
       "      <th>1271415</th>\n",
       "      <td>2</td>\n",
       "      <td>10.56</td>\n",
       "      <td>1</td>\n",
       "      <td>56</td>\n",
       "      <td>68</td>\n",
       "      <td>37.5</td>\n",
       "      <td>23</td>\n",
       "      <td>2021</td>\n",
       "      <td>1</td>\n",
       "      <td>31</td>\n",
       "      <td>6</td>\n",
       "      <td>1</td>\n",
       "    </tr>\n",
       "    <tr>\n",
       "      <th>1271416</th>\n",
       "      <td>2</td>\n",
       "      <td>1.93</td>\n",
       "      <td>1</td>\n",
       "      <td>230</td>\n",
       "      <td>229</td>\n",
       "      <td>7.5</td>\n",
       "      <td>23</td>\n",
       "      <td>2021</td>\n",
       "      <td>1</td>\n",
       "      <td>31</td>\n",
       "      <td>6</td>\n",
       "      <td>1</td>\n",
       "    </tr>\n",
       "  </tbody>\n",
       "</table>\n",
       "<p>1212156 rows × 12 columns</p>\n",
       "</div>"
      ],
      "text/plain": [
       "         passenger_count  trip_distance  rate_code  pickup_location  \\\n",
       "0                      1           2.10          1              142   \n",
       "1                      1           0.20          1              238   \n",
       "2                      1          14.70          1              132   \n",
       "4                      1           4.94          1               68   \n",
       "5                      1           1.60          1              224   \n",
       "...                  ...            ...        ...              ...   \n",
       "1271412                3           0.81          1               41   \n",
       "1271413                1           3.81          1              113   \n",
       "1271414                1           1.32          1              233   \n",
       "1271415                2          10.56          1               56   \n",
       "1271416                2           1.93          1              230   \n",
       "\n",
       "         dropoff_location  fare_amount  hour  year  month  day  day_of_week  \\\n",
       "0                      43          8.0     0  2021      1    1            4   \n",
       "1                     151          3.0     0  2021      1    1            4   \n",
       "2                     165         42.0     0  2021      1    1            4   \n",
       "4                      33         16.5     0  2021      1    1            4   \n",
       "5                      68          8.0     0  2021      1    1            4   \n",
       "...                   ...          ...   ...   ...    ...  ...          ...   \n",
       "1271412                74          5.0    23  2021      1   31            6   \n",
       "1271413               141         12.5    23  2021      1   31            6   \n",
       "1271414               237          6.0    23  2021      1   31            6   \n",
       "1271415                68         37.5    23  2021      1   31            6   \n",
       "1271416               229          7.5    23  2021      1   31            6   \n",
       "\n",
       "         is_weekend  \n",
       "0                 0  \n",
       "1                 0  \n",
       "2                 0  \n",
       "4                 0  \n",
       "5                 0  \n",
       "...             ...  \n",
       "1271412           1  \n",
       "1271413           1  \n",
       "1271414           1  \n",
       "1271415           1  \n",
       "1271416           1  \n",
       "\n",
       "[1212156 rows x 12 columns]"
      ]
     },
     "execution_count": 15,
     "metadata": {},
     "output_type": "execute_result"
    }
   ],
   "source": [
    "%%time\n",
    "\n",
    "# actually add the features\n",
    "taxi_df = add_features(df_subset)\n",
    "taxi_df"
   ]
  },
  {
   "cell_type": "markdown",
   "metadata": {
    "id": "OxpuZnFWRwUd"
   },
   "source": [
    "## cuDF version with UDF"
   ]
  },
  {
   "cell_type": "markdown",
   "metadata": {
    "id": "WSJdwfNrRwUd"
   },
   "source": [
    "cuDF's [apply_rows](https://rapidsai.github.io/projects/cudf/en/0.6.0/api.html#cudf.dataframe.DataFrame.apply_rows) operation is similar to Pandas's [DataFrame.apply](https://pandas.pydata.org/pandas-docs/stable/reference/api/pandas.DataFrame.apply.html), except that for cuDF, custom Python code is [JIT compiled by numba](https://numba.pydata.org/numba-doc/dev/cuda/kernels.html) into GPU kernels."
   ]
  },
  {
   "cell_type": "code",
   "execution_count": 16,
   "metadata": {
    "id": "Llz78AMERwUe",
    "outputId": "462f7752-b8ab-4ccf-b054-ec940121a4a7"
   },
   "outputs": [
    {
     "name": "stdout",
     "output_type": "stream",
     "text": [
      "CPU times: user 11.1 ms, sys: 7.83 ms, total: 18.9 ms\n",
      "Wall time: 16 ms\n"
     ]
    },
    {
     "data": {
      "text/html": [
       "<div>\n",
       "<style scoped>\n",
       "    .dataframe tbody tr th:only-of-type {\n",
       "        vertical-align: middle;\n",
       "    }\n",
       "\n",
       "    .dataframe tbody tr th {\n",
       "        vertical-align: top;\n",
       "    }\n",
       "\n",
       "    .dataframe thead th {\n",
       "        text-align: right;\n",
       "    }\n",
       "</style>\n",
       "<table border=\"1\" class=\"dataframe\">\n",
       "  <thead>\n",
       "    <tr style=\"text-align: right;\">\n",
       "      <th></th>\n",
       "      <th>passenger_count</th>\n",
       "      <th>trip_distance</th>\n",
       "      <th>rate_code</th>\n",
       "      <th>pickup_location</th>\n",
       "      <th>dropoff_location</th>\n",
       "      <th>fare_amount</th>\n",
       "      <th>hour</th>\n",
       "      <th>year</th>\n",
       "      <th>month</th>\n",
       "      <th>day</th>\n",
       "      <th>day_of_week</th>\n",
       "      <th>is_weekend</th>\n",
       "    </tr>\n",
       "  </thead>\n",
       "  <tbody>\n",
       "    <tr>\n",
       "      <th>0</th>\n",
       "      <td>1</td>\n",
       "      <td>2.10</td>\n",
       "      <td>1</td>\n",
       "      <td>142</td>\n",
       "      <td>43</td>\n",
       "      <td>8.0</td>\n",
       "      <td>0</td>\n",
       "      <td>2021</td>\n",
       "      <td>1</td>\n",
       "      <td>1</td>\n",
       "      <td>4</td>\n",
       "      <td>0</td>\n",
       "    </tr>\n",
       "    <tr>\n",
       "      <th>1</th>\n",
       "      <td>1</td>\n",
       "      <td>0.20</td>\n",
       "      <td>1</td>\n",
       "      <td>238</td>\n",
       "      <td>151</td>\n",
       "      <td>3.0</td>\n",
       "      <td>0</td>\n",
       "      <td>2021</td>\n",
       "      <td>1</td>\n",
       "      <td>1</td>\n",
       "      <td>4</td>\n",
       "      <td>0</td>\n",
       "    </tr>\n",
       "    <tr>\n",
       "      <th>2</th>\n",
       "      <td>1</td>\n",
       "      <td>14.70</td>\n",
       "      <td>1</td>\n",
       "      <td>132</td>\n",
       "      <td>165</td>\n",
       "      <td>42.0</td>\n",
       "      <td>0</td>\n",
       "      <td>2021</td>\n",
       "      <td>1</td>\n",
       "      <td>1</td>\n",
       "      <td>4</td>\n",
       "      <td>0</td>\n",
       "    </tr>\n",
       "    <tr>\n",
       "      <th>4</th>\n",
       "      <td>1</td>\n",
       "      <td>4.94</td>\n",
       "      <td>1</td>\n",
       "      <td>68</td>\n",
       "      <td>33</td>\n",
       "      <td>16.5</td>\n",
       "      <td>0</td>\n",
       "      <td>2021</td>\n",
       "      <td>1</td>\n",
       "      <td>1</td>\n",
       "      <td>4</td>\n",
       "      <td>0</td>\n",
       "    </tr>\n",
       "    <tr>\n",
       "      <th>5</th>\n",
       "      <td>1</td>\n",
       "      <td>1.60</td>\n",
       "      <td>1</td>\n",
       "      <td>224</td>\n",
       "      <td>68</td>\n",
       "      <td>8.0</td>\n",
       "      <td>0</td>\n",
       "      <td>2021</td>\n",
       "      <td>1</td>\n",
       "      <td>1</td>\n",
       "      <td>4</td>\n",
       "      <td>0</td>\n",
       "    </tr>\n",
       "    <tr>\n",
       "      <th>...</th>\n",
       "      <td>...</td>\n",
       "      <td>...</td>\n",
       "      <td>...</td>\n",
       "      <td>...</td>\n",
       "      <td>...</td>\n",
       "      <td>...</td>\n",
       "      <td>...</td>\n",
       "      <td>...</td>\n",
       "      <td>...</td>\n",
       "      <td>...</td>\n",
       "      <td>...</td>\n",
       "      <td>...</td>\n",
       "    </tr>\n",
       "    <tr>\n",
       "      <th>1271412</th>\n",
       "      <td>3</td>\n",
       "      <td>0.81</td>\n",
       "      <td>1</td>\n",
       "      <td>41</td>\n",
       "      <td>74</td>\n",
       "      <td>5.0</td>\n",
       "      <td>23</td>\n",
       "      <td>2021</td>\n",
       "      <td>1</td>\n",
       "      <td>31</td>\n",
       "      <td>6</td>\n",
       "      <td>1</td>\n",
       "    </tr>\n",
       "    <tr>\n",
       "      <th>1271413</th>\n",
       "      <td>1</td>\n",
       "      <td>3.81</td>\n",
       "      <td>1</td>\n",
       "      <td>113</td>\n",
       "      <td>141</td>\n",
       "      <td>12.5</td>\n",
       "      <td>23</td>\n",
       "      <td>2021</td>\n",
       "      <td>1</td>\n",
       "      <td>31</td>\n",
       "      <td>6</td>\n",
       "      <td>1</td>\n",
       "    </tr>\n",
       "    <tr>\n",
       "      <th>1271414</th>\n",
       "      <td>1</td>\n",
       "      <td>1.32</td>\n",
       "      <td>1</td>\n",
       "      <td>233</td>\n",
       "      <td>237</td>\n",
       "      <td>6.0</td>\n",
       "      <td>23</td>\n",
       "      <td>2021</td>\n",
       "      <td>1</td>\n",
       "      <td>31</td>\n",
       "      <td>6</td>\n",
       "      <td>1</td>\n",
       "    </tr>\n",
       "    <tr>\n",
       "      <th>1271415</th>\n",
       "      <td>2</td>\n",
       "      <td>10.56</td>\n",
       "      <td>1</td>\n",
       "      <td>56</td>\n",
       "      <td>68</td>\n",
       "      <td>37.5</td>\n",
       "      <td>23</td>\n",
       "      <td>2021</td>\n",
       "      <td>1</td>\n",
       "      <td>31</td>\n",
       "      <td>6</td>\n",
       "      <td>1</td>\n",
       "    </tr>\n",
       "    <tr>\n",
       "      <th>1271416</th>\n",
       "      <td>2</td>\n",
       "      <td>1.93</td>\n",
       "      <td>1</td>\n",
       "      <td>230</td>\n",
       "      <td>229</td>\n",
       "      <td>7.5</td>\n",
       "      <td>23</td>\n",
       "      <td>2021</td>\n",
       "      <td>1</td>\n",
       "      <td>31</td>\n",
       "      <td>6</td>\n",
       "      <td>1</td>\n",
       "    </tr>\n",
       "  </tbody>\n",
       "</table>\n",
       "<p>1212156 rows × 12 columns</p>\n",
       "</div>"
      ],
      "text/plain": [
       "         passenger_count  trip_distance  rate_code  pickup_location  \\\n",
       "0                      1           2.10          1              142   \n",
       "1                      1           0.20          1              238   \n",
       "2                      1          14.70          1              132   \n",
       "4                      1           4.94          1               68   \n",
       "5                      1           1.60          1              224   \n",
       "...                  ...            ...        ...              ...   \n",
       "1271412                3           0.81          1               41   \n",
       "1271413                1           3.81          1              113   \n",
       "1271414                1           1.32          1              233   \n",
       "1271415                2          10.56          1               56   \n",
       "1271416                2           1.93          1              230   \n",
       "\n",
       "         dropoff_location  fare_amount  hour  year  month  day  day_of_week  \\\n",
       "0                      43          8.0     0  2021      1    1            4   \n",
       "1                     151          3.0     0  2021      1    1            4   \n",
       "2                     165         42.0     0  2021      1    1            4   \n",
       "4                      33         16.5     0  2021      1    1            4   \n",
       "5                      68          8.0     0  2021      1    1            4   \n",
       "...                   ...          ...   ...   ...    ...  ...          ...   \n",
       "1271412                74          5.0    23  2021      1   31            6   \n",
       "1271413               141         12.5    23  2021      1   31            6   \n",
       "1271414               237          6.0    23  2021      1   31            6   \n",
       "1271415                68         37.5    23  2021      1   31            6   \n",
       "1271416               229          7.5    23  2021      1   31            6   \n",
       "\n",
       "         is_weekend  \n",
       "0                 0  \n",
       "1                 0  \n",
       "2                 0  \n",
       "4                 0  \n",
       "5                 0  \n",
       "...             ...  \n",
       "1271412           1  \n",
       "1271413           1  \n",
       "1271414           1  \n",
       "1271415           1  \n",
       "1271416           1  \n",
       "\n",
       "[1212156 rows x 12 columns]"
      ]
     },
     "execution_count": 16,
     "metadata": {},
     "output_type": "execute_result"
    }
   ],
   "source": [
    "%%time\n",
    "\n",
    "# TODO: actually add the features and create \"taxi_gdf\" from gdf_subset\n",
    "taxi_gdf = add_features(gdf_subset)\n",
    "taxi_gdf"
   ]
  },
  {
   "cell_type": "markdown",
   "metadata": {
    "id": "eNGgW9q7RwUe"
   },
   "source": [
    "For more advanced spatial calculations, check out cuSpatial (https://medium.com/rapids-ai/releasing-cuspatial-to-accelerate-geospatial-and-spatiotemporal-processing-b686d8b32a9), the newest RAPIDS library."
   ]
  },
  {
   "cell_type": "code",
   "execution_count": 17,
   "metadata": {
    "id": "H2F-l1TJRwUe"
   },
   "outputs": [],
   "source": [
    "# TODO: Print summary stats from \"taxi_gdf\""
   ]
  },
  {
   "cell_type": "markdown",
   "metadata": {
    "id": "9avYs6sVRwUe"
   },
   "source": [
    "# Pick a Training Set\n",
    "\n",
    "Let's imagine you're making a trip to New York on the 24th and want to build a model to predict what fare prices will be like the last few days of the month based on the first part of the month. We'll use a query expression to identify the `day` of the month to use to divide the data into train and test sets.\n",
    "\n",
    "The wall-time below represents how long it takes your GPU cluster to load data from the Google Cloud Storage bucket and the ETL portion of the workflow."
   ]
  },
  {
   "cell_type": "code",
   "execution_count": 18,
   "metadata": {
    "id": "rljZxqJNRwUe",
    "outputId": "bd406e4e-357e-4406-dfac-1f6ecddcf9bf"
   },
   "outputs": [
    {
     "name": "stdout",
     "output_type": "stream",
     "text": [
      "CPU times: user 87.5 ms, sys: 56.6 ms, total: 144 ms\n",
      "Wall time: 140 ms\n"
     ]
    },
    {
     "data": {
      "text/plain": [
       "892229"
      ]
     },
     "execution_count": 18,
     "metadata": {},
     "output_type": "execute_result"
    }
   ],
   "source": [
    "%%time\n",
    "X_train_df = taxi_df.query('day < 24')\n",
    "Y_train_df = X_train_df[['fare_amount']]\n",
    "X_train_df = X_train_df.drop(columns='fare_amount')\n",
    "\n",
    "# numpy versions for sklearn\n",
    "X_train_np = X_train_df.to_numpy()\n",
    "Y_train_np = Y_train_df.to_numpy()\n",
    "len(X_train_df)"
   ]
  },
  {
   "cell_type": "code",
   "execution_count": 19,
   "metadata": {
    "id": "Uh6otRTZRwUe"
   },
   "outputs": [
    {
     "ename": "ModuleNotFoundError",
     "evalue": "No module named 'cuml'",
     "output_type": "error",
     "traceback": [
      "\u001b[0;31m---------------------------------------------------------------------------\u001b[0m",
      "\u001b[0;31mModuleNotFoundError\u001b[0m                       Traceback (most recent call last)",
      "Cell \u001b[0;32mIn[19], line 1\u001b[0m\n\u001b[0;32m----> 1\u001b[0m \u001b[38;5;28;01mfrom\u001b[39;00m \u001b[38;5;21;01mcuml\u001b[39;00m\u001b[38;5;21;01m.\u001b[39;00m\u001b[38;5;21;01mutils\u001b[39;00m \u001b[38;5;28;01mimport\u001b[39;00m input_utils \u001b[38;5;66;03m# Helpful functions for managing gpu arrays\u001b[39;00m\n",
      "\u001b[0;31mModuleNotFoundError\u001b[0m: No module named 'cuml'"
     ]
    }
   ],
   "source": [
    "from cuml.utils import input_utils # Helpful functions for managing gpu arrays"
   ]
  },
  {
   "cell_type": "code",
   "execution_count": null,
   "metadata": {
    "id": "X-nWEV3KRwUf",
    "outputId": "34d9a4fa-e75d-4ee0-addd-2774e38a247c"
   },
   "outputs": [],
   "source": [
    "%%time\n",
    "X_train_gdf = taxi_gdf.query('day < 24')\n",
    "Y_train_gdf = X_train_gdf[['fare_amount']]\n",
    "X_train_gdf = X_train_gdf.drop(columns='fare_amount')\n",
    "\n",
    "# gpu matrix versions for cuml\n",
    "X_train_gpu = input_utils.input_to_dev_array(X_train_gdf, convert_to_dtype=np.float32).array\n",
    "Y_train_gpu = input_utils.input_to_dev_array(Y_train_gdf, convert_to_dtype=np.float32).array\n",
    "\n",
    "# test versions\n",
    "X_test_gdf = taxi_gdf.query('day >= 24')\n",
    "Y_test_gdf = X_test_gdf[['fare_amount']]\n",
    "X_test_gdf = X_test_gdf.drop(columns='fare_amount')\n",
    "\n",
    "X_test_gpu = input_utils.input_to_dev_array(X_test_gdf, convert_to_dtype=np.float32).array\n",
    "Y_test_gpu = input_utils.input_to_dev_array(Y_test_gdf, convert_to_dtype=np.float32).array\n",
    "\n",
    "\n",
    "len(X_train_gdf)"
   ]
  },
  {
   "cell_type": "markdown",
   "metadata": {
    "id": "IMABXzlxRwUf"
   },
   "source": [
    "# Demo 4: Cluster and analyze with cuML"
   ]
  },
  {
   "cell_type": "code",
   "execution_count": null,
   "metadata": {
    "id": "G7zrB6uXRwUf"
   },
   "outputs": [],
   "source": [
    "%matplotlib inline"
   ]
  },
  {
   "cell_type": "code",
   "execution_count": null,
   "metadata": {
    "id": "fJXP7k_PRwUf"
   },
   "outputs": [],
   "source": [
    "import sklearn, sklearn.cluster\n",
    "from matplotlib import pyplot as plt"
   ]
  },
  {
   "cell_type": "code",
   "execution_count": null,
   "metadata": {
    "id": "JPUhnbI7RwUf",
    "outputId": "9a0a071c-f280-4784-ef3d-53a50000d5bd"
   },
   "outputs": [],
   "source": [
    "%%time\n",
    "# use scikit-learn on CPU\n",
    "\n",
    "sk_kmeans = sklearn.cluster.KMeans(n_clusters=5, n_jobs=-1)\n",
    "train_clusters_cpu = sk_kmeans.fit_predict(X_train_np[:200000,:])"
   ]
  },
  {
   "cell_type": "code",
   "execution_count": null,
   "metadata": {
    "id": "K7txLyFFRwUf",
    "outputId": "c6b6aa81-2ba1-4dad-f5b0-defa52bc3db5"
   },
   "outputs": [],
   "source": [
    "%%time\n",
    "n_samples = 400000\n",
    "\n",
    "# TODO: use cuML on GPU to fit KMeans with 5 clusters (larger dataset)"
   ]
  },
  {
   "cell_type": "code",
   "execution_count": null,
   "metadata": {
    "id": "c8DJQParRwUf",
    "outputId": "9d236d32-6aac-4a83-e725-dbd038c348a7"
   },
   "outputs": [],
   "source": [
    "# Just take a subset to speed plotting\n",
    "gdf_train_head = X_train_gdf.iloc[:400000]\n",
    "gdf_train_head[\"cluster\"] = train_clusters_gpu[:400000]\n",
    "gdf_train_head[\"short_trip\"] = gdf_train_head[\"trip_distance\"] < 1.01 # About the 25th percentile\n",
    "gdf_train_head[\"is_rush_est\"] = ((gdf_train_head.hour >= 10) & (gdf_train_head.hour <= 14)) | \\\n",
    "                                ((gdf_train_head.hour >= 21) & (gdf_train_head.hour <= 24))\n",
    "\n",
    "# actually do the plot\n",
    "sns.lmplot(\"pickup_longitude\", \"pickup_latitude\", data=gdf_train_head.to_pandas(),\n",
    "           hue=\"cluster\", col=\"is_rush_est\", row=\"short_trip\", fit_reg=False, scatter_kws={\"s\": 10})"
   ]
  },
  {
   "cell_type": "markdown",
   "metadata": {
    "id": "2sXlkFcHRwUf"
   },
   "source": [
    "### Fit a simple supervised model with cuML\n",
    "\n",
    "cuML supports a large range of supervised models, all emulating the scikit-learn interfaces. See the README (https://github.com/rapidsai/cuml) for a recent list. Here, we'll try a very simple model - a regularized linear regression with the ElasticNet approach that blends L1 and L2 penalties."
   ]
  },
  {
   "cell_type": "code",
   "execution_count": null,
   "metadata": {
    "id": "Hkv9TO8-RwUf"
   },
   "outputs": [],
   "source": [
    "from sklearn.linear_model import ElasticNet as skElastic\n",
    "from cuml.linear_model import ElasticNet as cuElastic"
   ]
  },
  {
   "cell_type": "code",
   "execution_count": null,
   "metadata": {
    "id": "2ycwFRHbRwUg",
    "outputId": "8a8e8fdd-0fec-4441-db56-584baa3b0657"
   },
   "outputs": [],
   "source": [
    "%%time\n",
    "# Sklearn will parallelize over all CPU cores with n_jobs=-1\n",
    "sk_model = skElastic(alpha=0.1)\n",
    "sk_model.fit(X_train_np, Y_train_np)"
   ]
  },
  {
   "cell_type": "code",
   "execution_count": null,
   "metadata": {
    "id": "Fpeth5n6RwUg",
    "outputId": "efb47e42-9408-455b-8421-aa82c6b1c59d"
   },
   "outputs": [],
   "source": [
    "%%time\n",
    "\n",
    "# TODO: Build a similar model on GPU with cuML"
   ]
  },
  {
   "cell_type": "code",
   "execution_count": null,
   "metadata": {
    "id": "RomZDHWdRwUg",
    "outputId": "60e6d468-1b01-4088-e05f-0a574163b07e"
   },
   "outputs": [],
   "source": [
    "%%time\n",
    "\n",
    "# Predict on a test set (storing as \"enet_predictions\" in the Y_test_gdf df)\n",
    "# and evaluate the predictions' R2 score"
   ]
  },
  {
   "cell_type": "markdown",
   "metadata": {
    "id": "E0rwc85pRwUg"
   },
   "source": [
    "# Demo 5: Train an  XGBoost Regression Model\n",
    "\n",
    "XGBoost is one of the most popular packages for gradient boosted decision trees. It comes with excellent GPU acceleration out of the box."
   ]
  },
  {
   "cell_type": "code",
   "execution_count": null,
   "metadata": {
    "id": "6yRsv1uzRwUg",
    "outputId": "65806255-102d-40d3-d1e5-c7063ffb95aa"
   },
   "outputs": [],
   "source": [
    "%%time\n",
    "# Train on CPU (uses all CPUs by default)\n",
    "import xgboost\n",
    "\n",
    "params = {\n",
    " 'learning_rate': 0.3,\n",
    "  'max_depth': 6,\n",
    "\n",
    "  'subsample': 0.6,\n",
    "  'gamma': 1\n",
    "}\n",
    "\n",
    "train_dmat = xgboost.DMatrix(X_train_np, Y_train_np, feature_names=X_train_df.columns)\n",
    "print(\"Converted to dmatrix\")\n",
    "trained_model = xgboost.train(params, train_dmat, num_boost_round=5)"
   ]
  },
  {
   "cell_type": "code",
   "execution_count": null,
   "metadata": {
    "id": "3a6WR9xCRwUg",
    "outputId": "170d6c5d-8860-4ffc-917f-183c4a77e31d"
   },
   "outputs": [],
   "source": [
    "%%time\n",
    "# TODO: retrain on GPU for more rounds, saving model as trained_model_gpus"
   ]
  },
  {
   "cell_type": "markdown",
   "metadata": {
    "id": "8GiPDXBxRwUg"
   },
   "source": [
    "# How Good is Our Model?\n",
    "\n",
    "Now that we have a trained model, we need to test it with the ecords we held out."
   ]
  },
  {
   "cell_type": "code",
   "execution_count": null,
   "metadata": {
    "id": "jt9XLqvsRwUg",
    "outputId": "1a5ab4b2-42e3-445a-d9ac-95ed54a15e93"
   },
   "outputs": [],
   "source": [
    "%%time\n",
    "\n",
    "# TODO: generate predictions on the test set as Y_test_gdf['prediction']"
   ]
  },
  {
   "cell_type": "markdown",
   "metadata": {
    "id": "hT4rbaFkRwUg"
   },
   "source": [
    "# Compute Root Mean Squared Error"
   ]
  },
  {
   "cell_type": "code",
   "execution_count": null,
   "metadata": {
    "id": "B2RXUl3sRwUg",
    "outputId": "ac718b19-5ea0-4073-e7b2-667fe6edb2e2"
   },
   "outputs": [],
   "source": [
    "Y_test_gdf[\"squared_error\"] = (Y_test_gdf['prediction'] - Y_test_gdf['fare_amount'])**2\n",
    "\n",
    "# inspect the results to make sure our calculation looks right\n",
    "Y_test_gdf.head()"
   ]
  },
  {
   "cell_type": "code",
   "execution_count": null,
   "metadata": {
    "id": "XiaA19ljRwUh",
    "outputId": "1008a244-563c-43f4-b03e-ce01c0bbc1de"
   },
   "outputs": [],
   "source": [
    "# compute the actual RMSE over the full test set\n",
    "np.sqrt(Y_test_gdf.squared_error.mean())"
   ]
  },
  {
   "cell_type": "markdown",
   "metadata": {
    "id": "P0jKAmlFRwUh"
   },
   "source": [
    "# Save Trained Model for Later Use\n",
    "\n",
    "To make a model maximally useful, you need to be able to save it for later use."
   ]
  },
  {
   "cell_type": "code",
   "execution_count": null,
   "metadata": {
    "id": "yHg_666iRwUh"
   },
   "outputs": [],
   "source": [
    "# Save model\n",
    "trained_model_gpu.save_model(\"output.model\")"
   ]
  },
  {
   "cell_type": "markdown",
   "metadata": {
    "id": "qK9Y-MhpRwUh"
   },
   "source": [
    "# Demo 6: A quick intro to Dask + RAPIDS\n",
    "\n",
    "Dask is a sophisticated package for parallel computation with a number of different datatypes. For much more detail, see: https://tutorial.dask.org/\n",
    "\n",
    "In these examples, we'll focus on the basics of `dask_cudf` and `dask_cuda`"
   ]
  },
  {
   "cell_type": "code",
   "execution_count": null,
   "metadata": {
    "id": "J1ukcIi1RwUh"
   },
   "outputs": [],
   "source": [
    "import dask_cudf"
   ]
  },
  {
   "cell_type": "code",
   "execution_count": null,
   "metadata": {
    "id": "N7LVIHXIRwUh"
   },
   "outputs": [],
   "source": [
    "import dask, dask_cudf\n",
    "from dask_cuda import LocalCUDACluster\n",
    "from dask.distributed import Client, wait"
   ]
  },
  {
   "cell_type": "code",
   "execution_count": null,
   "metadata": {
    "id": "2dhOXuV0RwUh"
   },
   "outputs": [],
   "source": [
    "# Setup a cluster and connect a client to it\n",
    "\n",
    "cluster = LocalCUDACluster()\n",
    "client = Client(cluster)"
   ]
  },
  {
   "cell_type": "code",
   "execution_count": null,
   "metadata": {
    "id": "L8TWyku3RwUh",
    "outputId": "08184fc6-fb55-41b0-e18d-75783eee961b"
   },
   "outputs": [],
   "source": [
    "client"
   ]
  },
  {
   "cell_type": "code",
   "execution_count": null,
   "metadata": {
    "id": "RYkHkIn8RwUh",
    "outputId": "476c4d24-0812-4eb4-eeff-6d72198b4b9b"
   },
   "outputs": [],
   "source": [
    "%%time\n",
    "ddf_all2014 = dask_cudf.read_csv(base_path+'2014/yellow_*.csv')"
   ]
  },
  {
   "cell_type": "code",
   "execution_count": null,
   "metadata": {
    "id": "jNyXZ-brRwUh"
   },
   "outputs": [],
   "source": [
    "len(ddf_all2014)"
   ]
  },
  {
   "cell_type": "code",
   "execution_count": null,
   "metadata": {
    "id": "WdWY4GCvRwUh",
    "outputId": "c3fb0267-f0c6-4918-e33c-b1d927384054"
   },
   "outputs": [],
   "source": [
    "# Redo the same cleanup we used above but on Dask this time\n",
    "\n",
    "col_cleanup = {col: col.strip().lower() for col in list(df_2014.columns)}\n",
    "ddf = ddf_all2014.rename(columns=col_cleanup)\n",
    "# rename columns using the supplied mapping\n",
    "ddf = ddf.rename(columns=remap)\n",
    "\n",
    "ddf = clean_columns(ddf, remap, must_haves, np.float64)"
   ]
  },
  {
   "cell_type": "code",
   "execution_count": null,
   "metadata": {
    "id": "Lbel-GBsRwUi",
    "outputId": "36315f06-c394-4403-8342-8d7b378f2842"
   },
   "outputs": [],
   "source": [
    "# Compute a simple histogram of passengers\n",
    "\n",
    "value_counts = ddf.passenger_count.value_counts()\n",
    "print(value_counts)\n",
    "print(value_counts.compute())"
   ]
  },
  {
   "cell_type": "markdown",
   "metadata": {
    "id": "0VOyJhNjRwUi"
   },
   "source": [
    "## Machine learning with Dask\n",
    "\n",
    "See also XGBoost's Dask interface docs: https://github.com/dmlc/xgboost/tree/master/demo/dask"
   ]
  },
  {
   "cell_type": "code",
   "execution_count": null,
   "metadata": {
    "id": "jn3UKtP2RwUi",
    "outputId": "8e91c498-bf1d-4450-b94d-b3fd6779fc59"
   },
   "outputs": [],
   "source": [
    "# Use map_partitions to apply the same distance function we used before\n",
    "ddf_with_dist = ddf.map_partitions(compute_distance_gpu)\n",
    "ddf_with_dist.head()"
   ]
  },
  {
   "cell_type": "code",
   "execution_count": null,
   "metadata": {
    "id": "V94DarNqRwUi"
   },
   "outputs": [],
   "source": [
    "kmeans_cols = [\"passenger_count\", \"trip_distance\", \"rate_code\", \"fare_amount\", \"h_distance\"]"
   ]
  },
  {
   "cell_type": "code",
   "execution_count": null,
   "metadata": {
    "id": "hvzyEO6NRwUi",
    "outputId": "45b43eb8-b842-45e2-c817-786c39c34569"
   },
   "outputs": [],
   "source": [
    "%%time\n",
    "X_ddf = ddf_with_dist[kmeans_cols]\n",
    "for c in X_ddf.columns:\n",
    "    X_ddf[c] = X_ddf[c].astype(np.float32)\n",
    "Y_ddf = X_ddf[\"fare_amount\"]\n",
    "X_ddf = X_ddf.drop(columns=\"fare_amount\")\n",
    "\n",
    "X_ddf, y_ddf = client.persist([X_ddf, Y_ddf]) # Trigger the computation and cache in RAM\n",
    "_ = wait([X_ddf, y_ddf]) # Actually wait for persistence to finish"
   ]
  },
  {
   "cell_type": "code",
   "execution_count": null,
   "metadata": {
    "id": "95A3v6mqRwUi"
   },
   "outputs": [],
   "source": [
    "import xgboost\n",
    "from xgboost.dask import DaskDMatrix"
   ]
  },
  {
   "cell_type": "code",
   "execution_count": null,
   "metadata": {
    "id": "8-922QZrRwUi",
    "outputId": "a76ab6f3-a827-45bd-d820-07bf1674df56"
   },
   "outputs": [],
   "source": [
    "%%time\n",
    "\n",
    "params = {'verbosity': 2, 'nthread': 1, 'tree_method': 'gpu_hist', 'objective': 'reg:squarederror',}\n",
    "\n",
    "# TODO: create a dmatrix, train a model, and store as xgb_model"
   ]
  },
  {
   "cell_type": "code",
   "execution_count": null,
   "metadata": {
    "id": "TcLLDOumRwUi"
   },
   "outputs": [],
   "source": [
    "# TODO: explore within-train-sample predictions"
   ]
  }
 ],
 "metadata": {
  "colab": {
   "provenance": []
  },
  "kernelspec": {
   "display_name": "Python 3 (ipykernel)",
   "language": "python",
   "name": "python3"
  },
  "language_info": {
   "codemirror_mode": {
    "name": "ipython",
    "version": 3
   },
   "file_extension": ".py",
   "mimetype": "text/x-python",
   "name": "python",
   "nbconvert_exporter": "python",
   "pygments_lexer": "ipython3",
   "version": "3.10.8"
  }
 },
 "nbformat": 4,
 "nbformat_minor": 1
}
